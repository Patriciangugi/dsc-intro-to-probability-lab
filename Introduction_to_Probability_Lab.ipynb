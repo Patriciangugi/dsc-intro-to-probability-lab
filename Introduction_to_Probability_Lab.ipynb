{
  "nbformat": 4,
  "nbformat_minor": 0,
  "metadata": {
    "colab": {
      "provenance": [],
      "authorship_tag": "ABX9TyMIwmxKCMjuVfv9T/wjga57",
      "include_colab_link": true
    },
    "kernelspec": {
      "name": "python3",
      "display_name": "Python 3"
    },
    "language_info": {
      "name": "python"
    }
  },
  "cells": [
    {
      "cell_type": "markdown",
      "metadata": {
        "id": "view-in-github",
        "colab_type": "text"
      },
      "source": [
        "<a href=\"https://colab.research.google.com/github/Patriciangugi/dsc-intro-to-probability-lab/blob/master/Introduction_to_Probability_Lab.ipynb\" target=\"_parent\"><img src=\"https://colab.research.google.com/assets/colab-badge.svg\" alt=\"Open In Colab\"/></a>"
      ]
    },
    {
      "cell_type": "code",
      "execution_count": null,
      "metadata": {
        "id": "ajzFglx73CrO"
      },
      "outputs": [],
      "source": [
        "roll_dice = {1, 2, 3, 4, 5, 6}"
      ]
    },
    {
      "cell_type": "code",
      "source": [
        "event = {5, 6}"
      ],
      "metadata": {
        "id": "g2bHpzHT3Fog"
      },
      "execution_count": null,
      "outputs": []
    },
    {
      "cell_type": "code",
      "source": [
        "prob_5_6 = len(event) / len(roll_dice)\n",
        "prob_5_6"
      ],
      "metadata": {
        "colab": {
          "base_uri": "https://localhost:8080/"
        },
        "id": "H3iV7eRC3Ft0",
        "outputId": "1d5b851c-3f82-460b-8a4b-fbefe377aaab"
      },
      "execution_count": null,
      "outputs": [
        {
          "output_type": "execute_result",
          "data": {
            "text/plain": [
              "0.3333333333333333"
            ]
          },
          "metadata": {},
          "execution_count": 4
        }
      ]
    },
    {
      "cell_type": "code",
      "source": [
        "import numpy as np\n",
        "np.random.randint(1,7) # you will get a random value between 1 and 6. See how it changes when you rerun"
      ],
      "metadata": {
        "colab": {
          "base_uri": "https://localhost:8080/"
        },
        "id": "YqRr7FJa8HEK",
        "outputId": "ad2def64-da9f-40ab-e92e-8d60f60071b0"
      },
      "execution_count": 2,
      "outputs": [
        {
          "output_type": "execute_result",
          "data": {
            "text/plain": [
              "2"
            ]
          },
          "metadata": {},
          "execution_count": 2
        }
      ]
    },
    {
      "cell_type": "code",
      "source": [
        "np.random.seed(12345) # to ensure reproducibility of results\n",
        "\n",
        "dice_10 = np.random.randint(1,7,size=10)\n",
        "dice_1k = np.random.randint(1,7,size=1000)\n",
        "dice_1m = np.random.randint(1,7,size=1_000_000)\n",
        "dice_100m = np.random.randint(1,7,size=100_000_000)"
      ],
      "metadata": {
        "id": "hC8FOj5W8HQw"
      },
      "execution_count": 3,
      "outputs": []
    },
    {
      "cell_type": "code",
      "source": [
        "def count_events(dice_rolls):\n",
        "    events = np.sum((dice_rolls == 5) | (dice_rolls == 6))\n",
        "    return events\n",
        "\n",
        "event_10 = count_events(dice_10)\n",
        "event_1k = count_events(dice_1k)\n",
        "event_1m = count_events(dice_1k)\n",
        "event_100m = count_events(dice_100m)\n",
        "\n",
        "print(\"Number of events with 10 rolls:\", event_10)\n",
        "print(\"Number of events with 1,000 rolls:\", event_1k)\n",
        "print(\"Number of events with 1,000,000 rolls:\", event_1m)\n",
        "print(\"Number of events with 100,000,000 rolls:\", event_100m)"
      ],
      "metadata": {
        "id": "6h-81E6s8Hav",
        "colab": {
          "base_uri": "https://localhost:8080/"
        },
        "outputId": "5ac22895-4fd8-4010-b482-8c715bc56c4a"
      },
      "execution_count": 8,
      "outputs": [
        {
          "output_type": "stream",
          "name": "stdout",
          "text": [
            "Number of events with 10 rolls: 5\n",
            "Number of events with 1,000 rolls: 331\n",
            "Number of events with 1,000,000 rolls: 331\n",
            "Number of events with 100,000,000 rolls: 33329752\n"
          ]
        }
      ]
    },
    {
      "cell_type": "code",
      "source": [
        "prob_10 = event_10 / 10\n",
        "prob_1k = event_1k / 1000\n",
        "prob_1m = event_1m / 1_000_000\n",
        "prob_100m = event_100m / 100_000_000\n",
        "\n",
        "print(\"Probability with 10 rolls:\", prob_10)\n",
        "print(\"Probability with 1,000 rolls:\", prob_1k)\n",
        "print(\"Probability with 1,000,000 rolls:\", prob_1m)\n",
        "print(\"Probability with 100,000,000 rolls:\", prob_100m)"
      ],
      "metadata": {
        "colab": {
          "base_uri": "https://localhost:8080/"
        },
        "id": "hu1kk3uy_ub3",
        "outputId": "bcd76335-d6de-46f1-f8d6-2cf90cc7fc4d"
      },
      "execution_count": 7,
      "outputs": [
        {
          "output_type": "stream",
          "name": "stdout",
          "text": [
            "Probability with 10 rolls: 0.5\n",
            "Probability with 1,000 rolls: 0.331\n",
            "Probability with 1,000,000 rolls: 0.000331\n",
            "Probability with 100,000,000 rolls: 0.33329752\n"
          ]
        }
      ]
    },
    {
      "cell_type": "code",
      "source": [
        "P_afr = 0.161\n",
        "P_ant = 0.000\n",
        "P_as = 0.598\n",
        "P_eur = 0.10\n",
        "P_na = 0.079\n",
        "P_aus = 0.005\n",
        "P_sa = 0.057\n",
        "\n",
        "print(\"P(Africa):\", P_afr)\n",
        "print(\"P(Antarctica):\", P_ant)\n",
        "print(\"P(Asia):\", P_as)\n",
        "print(\"P(Europe):\", P_eur)\n",
        "print(\"P(North-America):\", P_na)\n",
        "print(\"P(Australia):\", P_aus)\n",
        "print(\"P(South-America):\", P_sa)"
      ],
      "metadata": {
        "colab": {
          "base_uri": "https://localhost:8080/"
        },
        "id": "SPDvAQKW_uhF",
        "outputId": "d996cb06-bf37-4689-bd9f-b98047571c48"
      },
      "execution_count": 9,
      "outputs": [
        {
          "output_type": "stream",
          "name": "stdout",
          "text": [
            "P(Africa): 0.161\n",
            "P(Antarctica): 0.0\n",
            "P(Asia): 0.598\n",
            "P(Europe): 0.1\n",
            "P(North-America): 0.079\n",
            "P(Australia): 0.005\n",
            "P(South-America): 0.057\n"
          ]
        }
      ]
    },
    {
      "cell_type": "code",
      "source": [
        "continents = np.array([P_afr, P_ant, P_as, P_eur, P_na, P_aus, P_sa])\n",
        "print(continents)"
      ],
      "metadata": {
        "colab": {
          "base_uri": "https://localhost:8080/"
        },
        "id": "hMPIwWAC_uob",
        "outputId": "d3e9d81f-db97-439e-f117-422453d882fe"
      },
      "execution_count": 10,
      "outputs": [
        {
          "output_type": "stream",
          "name": "stdout",
          "text": [
            "[0.161 0.    0.598 0.1   0.079 0.005 0.057]\n"
          ]
        }
      ]
    },
    {
      "cell_type": "code",
      "source": [
        "def check_axioms(sample_space):\n",
        "  non_negativity = np.all(sample_space >= 0)"
      ],
      "metadata": {
        "id": "qs_SvLf9CrxW"
      },
      "execution_count": 11,
      "outputs": []
    },
    {
      "cell_type": "code",
      "source": [
        "check_axioms(continents)\n",
        "print(check_axioms(continents))"
      ],
      "metadata": {
        "colab": {
          "base_uri": "https://localhost:8080/"
        },
        "id": "5mmjVPptCr4Z",
        "outputId": "49f82ccb-4d3f-498b-a1a7-7ba4d8c1bc27"
      },
      "execution_count": 15,
      "outputs": [
        {
          "output_type": "stream",
          "name": "stdout",
          "text": [
            "None\n"
          ]
        }
      ]
    },
    {
      "cell_type": "code",
      "source": [
        "test_1 = np.array([0.05, 0.2, 0.3, 1.01])\n",
        "test_2 = np.array([0.05, 0.5, 0.6, -0.15])\n",
        "test_3 = np.array([0.043,0.05,.02,0.3,0.2])\n",
        "\n",
        "print(check_axioms(test_1))\n",
        "print(check_axioms(test_2))\n",
        "print(check_axioms(test_3))"
      ],
      "metadata": {
        "colab": {
          "base_uri": "https://localhost:8080/"
        },
        "id": "zs5TOGW_Cr-0",
        "outputId": "6d8be3d5-54f5-476a-eb6b-8a6b80b66eff"
      },
      "execution_count": 16,
      "outputs": [
        {
          "output_type": "stream",
          "name": "stdout",
          "text": [
            "None\n",
            "None\n",
            "None\n"
          ]
        }
      ]
    },
    {
      "cell_type": "code",
      "source": [
        "sample_dice = np.array([(1, 1), (1, 2), (1, 3), (1, 4), (1, 5), (1, 6),\n",
        "                        (2, 1), (2, 2), (2, 3), (2, 4), (2, 5), (2, 6),\n",
        "                        (3, 1), (3, 2), (3, 3), (3, 4), (3, 5), (3, 6),\n",
        "                        (4, 1), (4, 2), (4, 3), (4, 4), (4, 5), (4, 6),\n",
        "                        (5, 1), (5, 2), (5, 3), (5, 4), (5, 5), (5, 6),\n",
        "                        (6, 1), (6, 2), (6, 3), (6, 4), (6, 5), (6, 6)])\n",
        "print(sample_dice.shape)"
      ],
      "metadata": {
        "colab": {
          "base_uri": "https://localhost:8080/"
        },
        "id": "f7ksjPZiCsE0",
        "outputId": "e18ee33c-0473-46c4-9841-4113507ad4f4"
      },
      "execution_count": 17,
      "outputs": [
        {
          "output_type": "stream",
          "name": "stdout",
          "text": [
            "(36, 2)\n"
          ]
        }
      ]
    },
    {
      "cell_type": "code",
      "source": [
        "set_5 = np.array([np.any(dice == 5) for dice in sample_dice])\n",
        "print(set_5)"
      ],
      "metadata": {
        "colab": {
          "base_uri": "https://localhost:8080/"
        },
        "id": "-Ml2qWENFQw4",
        "outputId": "7d480dc4-0e03-4192-f3a5-8d557434118b"
      },
      "execution_count": 18,
      "outputs": [
        {
          "output_type": "stream",
          "name": "stdout",
          "text": [
            "[False False False False  True False False False False False  True False\n",
            " False False False False  True False False False False False  True False\n",
            "  True  True  True  True  True  True False False False False  True False]\n"
          ]
        }
      ]
    },
    {
      "cell_type": "code",
      "source": [
        "true_5 = np.array([np.any(dice == 5) for dice in sample_dice])\n",
        "print(true_5)"
      ],
      "metadata": {
        "colab": {
          "base_uri": "https://localhost:8080/"
        },
        "id": "1WNaVlbyFQ3B",
        "outputId": "26b09e94-b458-4dc2-a015-1a9715309014"
      },
      "execution_count": 20,
      "outputs": [
        {
          "output_type": "stream",
          "name": "stdout",
          "text": [
            "[False False False False  True False False False False False  True False\n",
            " False False False False  True False False False False False  True False\n",
            "  True  True  True  True  True  True False False False False  True False]\n"
          ]
        }
      ]
    },
    {
      "cell_type": "code",
      "source": [
        "prob_5 = np.sum(true_5) / len(sample_dice)\n",
        "print(prob_5)"
      ],
      "metadata": {
        "colab": {
          "base_uri": "https://localhost:8080/"
        },
        "id": "MNq-cg20FQ8u",
        "outputId": "1e33e5a6-fd79-4973-9029-b391cda28997"
      },
      "execution_count": 21,
      "outputs": [
        {
          "output_type": "stream",
          "name": "stdout",
          "text": [
            "0.3055555555555556\n"
          ]
        }
      ]
    },
    {
      "cell_type": "code",
      "source": [
        "set_5 = np.array([np.any(dice == 5) for dice in sample_dice])\n",
        "set_6 = np.array([np.any(dice == 6) for dice in sample_dice])"
      ],
      "metadata": {
        "id": "U_97hvI7HVnM"
      },
      "execution_count": 22,
      "outputs": []
    },
    {
      "cell_type": "code",
      "source": [
        "set_5_6 = set_5 | set_6"
      ],
      "metadata": {
        "id": "oChf9-gjHVtJ"
      },
      "execution_count": 23,
      "outputs": []
    },
    {
      "cell_type": "code",
      "source": [
        "num_set_5_6 = np.sum(set_5_6)"
      ],
      "metadata": {
        "id": "ITkdZqFZHVyz"
      },
      "execution_count": 24,
      "outputs": []
    },
    {
      "cell_type": "code",
      "source": [
        "prob_5_6 = num_set_5_6 / len(sample_dice)"
      ],
      "metadata": {
        "id": "5p1QYtmbHV4s"
      },
      "execution_count": 25,
      "outputs": []
    },
    {
      "cell_type": "code",
      "source": [
        "print(set_5_6)\n",
        "print(prob_5_6)"
      ],
      "metadata": {
        "colab": {
          "base_uri": "https://localhost:8080/"
        },
        "id": "HIOwvODjJQZx",
        "outputId": "0aa638c6-96e4-4fd4-a4f7-9c27301ffcfa"
      },
      "execution_count": 26,
      "outputs": [
        {
          "output_type": "stream",
          "name": "stdout",
          "text": [
            "[False False False False  True  True False False False False  True  True\n",
            " False False False False  True  True False False False False  True  True\n",
            "  True  True  True  True  True  True  True  True  True  True  True  True]\n",
            "0.5555555555555556\n"
          ]
        }
      ]
    },
    {
      "cell_type": "code",
      "source": [
        "sum_dice = np.sum(sample_dice, axis=1)\n",
        "sum_8 = (sum_dice == 8)\n",
        "num_sum_8 = np.sum(sum_8)"
      ],
      "metadata": {
        "id": "hG7LnNolJ-sx"
      },
      "execution_count": 27,
      "outputs": []
    },
    {
      "cell_type": "code",
      "source": [
        "prob_sum_8 = num_sum_8 / len(sample_dice)\n",
        "print(prob_sum_8)\n"
      ],
      "metadata": {
        "colab": {
          "base_uri": "https://localhost:8080/"
        },
        "id": "JhH7UhlIJ-xb",
        "outputId": "5067258e-56ee-4bfa-c736-1e4e6f128436"
      },
      "execution_count": 28,
      "outputs": [
        {
          "output_type": "stream",
          "name": "stdout",
          "text": [
            "0.1388888888888889\n"
          ]
        }
      ]
    },
    {
      "cell_type": "code",
      "source": [
        "import numpy as np\n",
        "from itertools import permutations\n",
        "perms = permutations(['M', 'M', 'M', 'F', 'F', 'F'])\n",
        "print(perms)"
      ],
      "metadata": {
        "colab": {
          "base_uri": "https://localhost:8080/"
        },
        "id": "iacFYHlKJ-1o",
        "outputId": "bfd8592b-4506-425c-ea6f-5eba5cac6325"
      },
      "execution_count": 32,
      "outputs": [
        {
          "output_type": "stream",
          "name": "stdout",
          "text": [
            "<itertools.permutations object at 0x7ea8ac89f1a0>\n"
          ]
        }
      ]
    },
    {
      "cell_type": "code",
      "source": [
        "sample_mf = np.array(list(perms))"
      ],
      "metadata": {
        "id": "1asV24WwJ-5a"
      },
      "execution_count": 33,
      "outputs": []
    },
    {
      "cell_type": "code",
      "source": [
        "sample_length = sample_mf.shape[0]\n",
        "print(sample_mf.shape)\n",
        "print(sample_length)"
      ],
      "metadata": {
        "colab": {
          "base_uri": "https://localhost:8080/"
        },
        "id": "Qb4jJc_AJQee",
        "outputId": "cc98be63-e6bf-4fdf-c17b-0bc8408ffe64"
      },
      "execution_count": 34,
      "outputs": [
        {
          "output_type": "stream",
          "name": "stdout",
          "text": [
            "(720, 6)\n",
            "720\n"
          ]
        }
      ]
    },
    {
      "cell_type": "code",
      "source": [
        "first_3_F = sample_mf[:, :3]\n",
        "print(\"First 3 appointment slots (F):\")\n",
        "print(first_3_F)"
      ],
      "metadata": {
        "colab": {
          "base_uri": "https://localhost:8080/"
        },
        "id": "mIkVP2lxJQji",
        "outputId": "59bbc132-f5a5-48e9-8ac7-a2e287164a31"
      },
      "execution_count": 35,
      "outputs": [
        {
          "output_type": "stream",
          "name": "stdout",
          "text": [
            "First 3 appointment slots (F):\n",
            "[['M' 'M' 'M']\n",
            " ['M' 'M' 'M']\n",
            " ['M' 'M' 'M']\n",
            " ...\n",
            " ['F' 'F' 'F']\n",
            " ['F' 'F' 'F']\n",
            " ['F' 'F' 'F']]\n"
          ]
        }
      ]
    },
    {
      "cell_type": "code",
      "source": [
        "num_F = np.sum(first_3_F == 'F', axis=1)\n",
        "\n",
        "print(num_F)"
      ],
      "metadata": {
        "colab": {
          "base_uri": "https://localhost:8080/"
        },
        "id": "IVq1sKvdMYUW",
        "outputId": "b01be1c6-80b5-4538-a849-269f740292ae"
      },
      "execution_count": 37,
      "outputs": [
        {
          "output_type": "stream",
          "name": "stdout",
          "text": [
            "[0 0 0 0 0 0 1 1 1 1 1 1 1 1 1 1 1 1 1 1 1 1 1 1 0 0 0 0 0 0 1 1 1 1 1 1 1\n",
            " 1 1 1 1 1 1 1 1 1 1 1 1 1 1 1 1 1 1 1 1 1 1 1 2 2 2 2 2 2 2 2 2 2 2 2 1 1\n",
            " 1 1 1 1 1 1 1 1 1 1 2 2 2 2 2 2 2 2 2 2 2 2 1 1 1 1 1 1 1 1 1 1 1 1 2 2 2\n",
            " 2 2 2 2 2 2 2 2 2 0 0 0 0 0 0 1 1 1 1 1 1 1 1 1 1 1 1 1 1 1 1 1 1 0 0 0 0\n",
            " 0 0 1 1 1 1 1 1 1 1 1 1 1 1 1 1 1 1 1 1 1 1 1 1 1 1 1 1 1 1 1 1 2 2 2 2 2\n",
            " 2 2 2 2 2 2 2 1 1 1 1 1 1 1 1 1 1 1 1 2 2 2 2 2 2 2 2 2 2 2 2 1 1 1 1 1 1\n",
            " 1 1 1 1 1 1 2 2 2 2 2 2 2 2 2 2 2 2 0 0 0 0 0 0 1 1 1 1 1 1 1 1 1 1 1 1 1\n",
            " 1 1 1 1 1 0 0 0 0 0 0 1 1 1 1 1 1 1 1 1 1 1 1 1 1 1 1 1 1 1 1 1 1 1 1 1 1\n",
            " 1 1 1 1 2 2 2 2 2 2 2 2 2 2 2 2 1 1 1 1 1 1 1 1 1 1 1 1 2 2 2 2 2 2 2 2 2\n",
            " 2 2 2 1 1 1 1 1 1 1 1 1 1 1 1 2 2 2 2 2 2 2 2 2 2 2 2 1 1 1 1 1 1 1 1 1 1\n",
            " 1 1 2 2 2 2 2 2 2 2 2 2 2 2 1 1 1 1 1 1 1 1 1 1 1 1 2 2 2 2 2 2 2 2 2 2 2\n",
            " 2 1 1 1 1 1 1 1 1 1 1 1 1 2 2 2 2 2 2 2 2 2 2 2 2 2 2 2 2 2 2 2 2 2 2 2 2\n",
            " 2 2 2 2 2 2 3 3 3 3 3 3 2 2 2 2 2 2 2 2 2 2 2 2 2 2 2 2 2 2 3 3 3 3 3 3 1\n",
            " 1 1 1 1 1 1 1 1 1 1 1 2 2 2 2 2 2 2 2 2 2 2 2 1 1 1 1 1 1 1 1 1 1 1 1 2 2\n",
            " 2 2 2 2 2 2 2 2 2 2 1 1 1 1 1 1 1 1 1 1 1 1 2 2 2 2 2 2 2 2 2 2 2 2 2 2 2\n",
            " 2 2 2 2 2 2 2 2 2 2 2 2 2 2 2 3 3 3 3 3 3 2 2 2 2 2 2 2 2 2 2 2 2 2 2 2 2\n",
            " 2 2 3 3 3 3 3 3 1 1 1 1 1 1 1 1 1 1 1 1 2 2 2 2 2 2 2 2 2 2 2 2 1 1 1 1 1\n",
            " 1 1 1 1 1 1 1 2 2 2 2 2 2 2 2 2 2 2 2 1 1 1 1 1 1 1 1 1 1 1 1 2 2 2 2 2 2\n",
            " 2 2 2 2 2 2 2 2 2 2 2 2 2 2 2 2 2 2 2 2 2 2 2 2 3 3 3 3 3 3 2 2 2 2 2 2 2\n",
            " 2 2 2 2 2 2 2 2 2 2 2 3 3 3 3 3 3]\n"
          ]
        }
      ]
    },
    {
      "cell_type": "code",
      "source": [
        "F_2plus = np.sum(num_F >= 2)\n",
        "print(F_2plus)"
      ],
      "metadata": {
        "colab": {
          "base_uri": "https://localhost:8080/"
        },
        "id": "k5Ydj5LIMYYH",
        "outputId": "374852b3-569f-4df3-a935-c00391913472"
      },
      "execution_count": 38,
      "outputs": [
        {
          "output_type": "stream",
          "name": "stdout",
          "text": [
            "360\n"
          ]
        }
      ]
    },
    {
      "cell_type": "code",
      "source": [
        "prob_F_2plus = F_2plus / sample_mf.shape[0]\n",
        "print(\"\\nProbability that at least 2 out of the first 3 appointments are female:\", prob_F_2plus)"
      ],
      "metadata": {
        "colab": {
          "base_uri": "https://localhost:8080/"
        },
        "id": "SlPlok_QMYbk",
        "outputId": "f8b22929-79b6-449e-80a7-60a504ead9da"
      },
      "execution_count": 39,
      "outputs": [
        {
          "output_type": "stream",
          "name": "stdout",
          "text": [
            "\n",
            "Probability that at least 2 out of the first 3 appointments are female: 0.5\n"
          ]
        }
      ]
    },
    {
      "cell_type": "code",
      "source": [
        "first_4_F = sample_mf[:, :4]\n",
        "\n",
        "print(first_4_F)"
      ],
      "metadata": {
        "colab": {
          "base_uri": "https://localhost:8080/"
        },
        "id": "D9qkxp1MMYfV",
        "outputId": "3d0fabd7-74aa-405d-d6b7-f463590581fb"
      },
      "execution_count": 40,
      "outputs": [
        {
          "output_type": "stream",
          "name": "stdout",
          "text": [
            "[['M' 'M' 'M' 'F']\n",
            " ['M' 'M' 'M' 'F']\n",
            " ['M' 'M' 'M' 'F']\n",
            " ...\n",
            " ['F' 'F' 'F' 'M']\n",
            " ['F' 'F' 'F' 'M']\n",
            " ['F' 'F' 'F' 'M']]\n"
          ]
        }
      ]
    },
    {
      "cell_type": "code",
      "source": [
        "num_F = np.sum(first_4_F == 'F', axis=1)\n",
        "print(num_F)"
      ],
      "metadata": {
        "colab": {
          "base_uri": "https://localhost:8080/"
        },
        "id": "AKyLgW6LOmdz",
        "outputId": "e86bb6a8-93a2-43a2-df1e-c122b37421a0"
      },
      "execution_count": 41,
      "outputs": [
        {
          "output_type": "stream",
          "name": "stdout",
          "text": [
            "[1 1 1 1 1 1 1 1 2 2 2 2 1 1 2 2 2 2 1 1 2 2 2 2 1 1 1 1 1 1 1 1 2 2 2 2 1\n",
            " 1 2 2 2 2 1 1 2 2 2 2 1 1 2 2 2 2 1 1 2 2 2 2 2 2 2 2 3 3 2 2 2 2 3 3 1 1\n",
            " 2 2 2 2 1 1 2 2 2 2 2 2 2 2 3 3 2 2 2 2 3 3 1 1 2 2 2 2 1 1 2 2 2 2 2 2 2\n",
            " 2 3 3 2 2 2 2 3 3 1 1 1 1 1 1 1 1 2 2 2 2 1 1 2 2 2 2 1 1 2 2 2 2 1 1 1 1\n",
            " 1 1 1 1 2 2 2 2 1 1 2 2 2 2 1 1 2 2 2 2 1 1 2 2 2 2 1 1 2 2 2 2 2 2 2 2 3\n",
            " 3 2 2 2 2 3 3 1 1 2 2 2 2 1 1 2 2 2 2 2 2 2 2 3 3 2 2 2 2 3 3 1 1 2 2 2 2\n",
            " 1 1 2 2 2 2 2 2 2 2 3 3 2 2 2 2 3 3 1 1 1 1 1 1 1 1 2 2 2 2 1 1 2 2 2 2 1\n",
            " 1 2 2 2 2 1 1 1 1 1 1 1 1 2 2 2 2 1 1 2 2 2 2 1 1 2 2 2 2 1 1 2 2 2 2 1 1\n",
            " 2 2 2 2 2 2 2 2 3 3 2 2 2 2 3 3 1 1 2 2 2 2 1 1 2 2 2 2 2 2 2 2 3 3 2 2 2\n",
            " 2 3 3 1 1 2 2 2 2 1 1 2 2 2 2 2 2 2 2 3 3 2 2 2 2 3 3 1 1 2 2 2 2 1 1 2 2\n",
            " 2 2 2 2 2 2 3 3 2 2 2 2 3 3 1 1 2 2 2 2 1 1 2 2 2 2 2 2 2 2 3 3 2 2 2 2 3\n",
            " 3 1 1 2 2 2 2 1 1 2 2 2 2 2 2 2 2 3 3 2 2 2 2 3 3 2 2 2 2 3 3 2 2 2 2 3 3\n",
            " 2 2 2 2 3 3 3 3 3 3 3 3 2 2 2 2 3 3 2 2 2 2 3 3 2 2 2 2 3 3 3 3 3 3 3 3 1\n",
            " 1 2 2 2 2 1 1 2 2 2 2 2 2 2 2 3 3 2 2 2 2 3 3 1 1 2 2 2 2 1 1 2 2 2 2 2 2\n",
            " 2 2 3 3 2 2 2 2 3 3 1 1 2 2 2 2 1 1 2 2 2 2 2 2 2 2 3 3 2 2 2 2 3 3 2 2 2\n",
            " 2 3 3 2 2 2 2 3 3 2 2 2 2 3 3 3 3 3 3 3 3 2 2 2 2 3 3 2 2 2 2 3 3 2 2 2 2\n",
            " 3 3 3 3 3 3 3 3 1 1 2 2 2 2 1 1 2 2 2 2 2 2 2 2 3 3 2 2 2 2 3 3 1 1 2 2 2\n",
            " 2 1 1 2 2 2 2 2 2 2 2 3 3 2 2 2 2 3 3 1 1 2 2 2 2 1 1 2 2 2 2 2 2 2 2 3 3\n",
            " 2 2 2 2 3 3 2 2 2 2 3 3 2 2 2 2 3 3 2 2 2 2 3 3 3 3 3 3 3 3 2 2 2 2 3 3 2\n",
            " 2 2 2 3 3 2 2 2 2 3 3 3 3 3 3 3 3]\n"
          ]
        }
      ]
    },
    {
      "cell_type": "code",
      "source": [
        "F_all_4 = np.sum(num_F == 3)\n",
        "print(F_all_4)"
      ],
      "metadata": {
        "colab": {
          "base_uri": "https://localhost:8080/"
        },
        "id": "ykO8zh_BOmjU",
        "outputId": "71dca80a-4050-4076-ae52-8c47cabe1113"
      },
      "execution_count": 42,
      "outputs": [
        {
          "output_type": "stream",
          "name": "stdout",
          "text": [
            "144\n"
          ]
        }
      ]
    },
    {
      "cell_type": "code",
      "source": [
        "prob_F_all_4 = F_all_4 / sample_mf.shape[0]\n",
        "print(prob_F_all_4)"
      ],
      "metadata": {
        "colab": {
          "base_uri": "https://localhost:8080/"
        },
        "id": "TawRY4BFOmnL",
        "outputId": "1aca6a60-e588-4f8a-f63c-7cb239bd7fa0"
      },
      "execution_count": 43,
      "outputs": [
        {
          "output_type": "stream",
          "name": "stdout",
          "text": [
            "0.2\n"
          ]
        }
      ]
    },
    {
      "cell_type": "code",
      "source": [],
      "metadata": {
        "id": "FACCqfFiOmqZ"
      },
      "execution_count": null,
      "outputs": []
    },
    {
      "cell_type": "code",
      "source": [],
      "metadata": {
        "id": "IlOqtyPrOmtx"
      },
      "execution_count": null,
      "outputs": []
    },
    {
      "cell_type": "code",
      "source": [],
      "metadata": {
        "id": "4iNPqffaOmxI"
      },
      "execution_count": null,
      "outputs": []
    },
    {
      "cell_type": "code",
      "source": [],
      "metadata": {
        "id": "-TOOshRBMYij"
      },
      "execution_count": null,
      "outputs": []
    }
  ]
}