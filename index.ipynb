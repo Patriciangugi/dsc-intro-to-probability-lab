{
  "nbformat": 4,
  "nbformat_minor": 0,
  "metadata": {
    "colab": {
      "provenance": [],
      "authorship_tag": "ABX9TyMSBnmuR/JJ1otrWQqDwIA9",
      "include_colab_link": true
    },
    "kernelspec": {
      "name": "python3",
      "display_name": "Python 3"
    },
    "language_info": {
      "name": "python"
    }
  },
  "cells": [
    {
      "cell_type": "markdown",
      "metadata": {
        "id": "view-in-github",
        "colab_type": "text"
      },
      "source": [
        "<a href=\"https://colab.research.google.com/github/Patriciangugi/dsc-intro-to-probability-lab/blob/master/index.ipynb\" target=\"_parent\"><img src=\"https://colab.research.google.com/assets/colab-badge.svg\" alt=\"Open In Colab\"/></a>"
      ]
    },
    {
      "cell_type": "code",
      "execution_count": 1,
      "metadata": {
        "id": "ajzFglx73CrO"
      },
      "outputs": [],
      "source": [
        "roll_dice = {1, 2, 3, 4, 5, 6}"
      ]
    },
    {
      "cell_type": "code",
      "source": [
        "event = {5, 6}"
      ],
      "metadata": {
        "id": "g2bHpzHT3Fog"
      },
      "execution_count": 2,
      "outputs": []
    },
    {
      "cell_type": "code",
      "source": [
        "prob_5_6 = len(event) / len(roll_dice)\n",
        "prob_5_6"
      ],
      "metadata": {
        "colab": {
          "base_uri": "https://localhost:8080/"
        },
        "id": "H3iV7eRC3Ft0",
        "outputId": "1d5b851c-3f82-460b-8a4b-fbefe377aaab"
      },
      "execution_count": 4,
      "outputs": [
        {
          "output_type": "execute_result",
          "data": {
            "text/plain": [
              "0.3333333333333333"
            ]
          },
          "metadata": {},
          "execution_count": 4
        }
      ]
    }
  ]
}